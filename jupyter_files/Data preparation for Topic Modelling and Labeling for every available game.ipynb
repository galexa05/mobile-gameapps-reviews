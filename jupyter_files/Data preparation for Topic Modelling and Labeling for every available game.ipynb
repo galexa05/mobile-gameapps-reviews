{
 "cells": [
  {
   "cell_type": "markdown",
   "metadata": {},
   "source": [
    "## **Import Libraries**"
   ]
  },
  {
   "cell_type": "code",
   "execution_count": 1,
   "metadata": {},
   "outputs": [
    {
     "name": "stderr",
     "output_type": "stream",
     "text": [
      "/Users/giannisalexandrou/.local/share/virtualenvs/players_behavior-Bwxkhg14/lib/python3.11/site-packages/tqdm/auto.py:21: TqdmWarning: IProgress not found. Please update jupyter and ipywidgets. See https://ipywidgets.readthedocs.io/en/stable/user_install.html\n",
      "  from .autonotebook import tqdm as notebook_tqdm\n"
     ]
    }
   ],
   "source": [
    "import datetime\n",
    "import pandas as pd\n",
    "import numpy as np\n",
    "import os\n",
    "import openai\n",
    "from umap import UMAP\n",
    "from hdbscan import HDBSCAN\n",
    "from bertopic import BERTopic\n",
    "from sklearn.feature_extraction.text import CountVectorizer\n",
    "from bertopic.representation import OpenAI\n",
    "from sentence_transformers import SentenceTransformer\n",
    "from dotenv import load_dotenv, find_dotenv\n",
    "_ = load_dotenv(find_dotenv())"
   ]
  },
  {
   "cell_type": "code",
   "execution_count": null,
   "metadata": {},
   "outputs": [],
   "source": [
    "# transform datetime to date format in monthly basis\n",
    "def transform_date_to_monthly_date(date):\n",
    "    # Convert the date to a datetime object\n",
    "    date = datetime.datetime.strptime(date, \"%Y-%m-%d\")\n",
    "\n",
    "    # Set the day to the first day of the month\n",
    "    date = date.replace(day=1)\n",
    "\n",
    "    # Return the formatted date\n",
    "    return date.strftime(\"%Y-%m-%d\")"
   ]
  },
  {
   "cell_type": "markdown",
   "metadata": {},
   "source": [
    "## Data collection and division to positive and negative reviews"
   ]
  },
  {
   "cell_type": "code",
   "execution_count": null,
   "metadata": {},
   "outputs": [],
   "source": [
    "# Read game reviews as dataframe\n",
    "df = pd.read_csv('../data/Mid_DS_NLP.csv')\n",
    "df['month'] = df['dt'].apply(lambda x: transform_date_to_monthly_date(x))\n",
    "\n",
    "available_games = df['app_name'].unique()\n",
    "\n",
    "# Keep positive and negative reviews based on their selected rate between the range 1 and 5\n",
    "negative_df  = df[df['rating'].isin([1,2])]\n",
    "positive_df  = df[df['rating'].isin([4,5])]"
   ]
  },
  {
   "cell_type": "markdown",
   "metadata": {},
   "source": [
    "## **Feature Extractiong**"
   ]
  },
  {
   "cell_type": "code",
   "execution_count": null,
   "metadata": {},
   "outputs": [],
   "source": [
    "# Pre-calculate embeddings, converting documents (reviews) into numerical values\n",
    "def get_embeddings(temp_df):\n",
    "    embedding_model = SentenceTransformer(\"all-MiniLM-L6-v2\")\n",
    "    embeddings = embedding_model.encode(temp_df['review'].values, show_progress_bar=True)\n",
    "    return embedding_model, embeddings\n",
    "\n",
    "# Use a dimensionality reduction algorithm (in this case UMAP), to reduce the size of the embeddings.\n",
    "def get_umap(n_neighbors=15,n_components=5, min_dist=0.0, metric='cosine', random_state=42):\n",
    "    umap_model = UMAP(n_neighbors=n_neighbors, n_components=n_components, min_dist=min_dist, metric=metric, random_state=random_state)\n",
    "    return umap_model\n",
    "\n",
    "# Use a clustering model to control the number of grouped topics\n",
    "def get_hdbscan_model(min_cluster_size=50, metric='euclidean', cluster_selection_method='eom', prediction_data=True):\n",
    "    hdbscan_model = HDBSCAN(min_cluster_size=min_cluster_size, metric=metric, cluster_selection_method=cluster_selection_method, prediction_data=prediction_data)\n",
    "    return hdbscan_model\n",
    "\n",
    "# Use the CountVectorizer, a default representation of topics which convert words into tokens.\n",
    "# Remove stopwords, ignore infrequent words, and increase the n-gram range\n",
    "def get_vectorizer(ngram_range=(1, 2)):\n",
    "    vectorizer_model = CountVectorizer(stop_words=\"english\", ngram_range=ngram_range)\n",
    "    return vectorizer_model\n",
    "\n",
    "# Use Representation model for labeling the topic extraction from documents (reviews)\n",
    "def get_representation_model():\n",
    "    # GPT-3.5\n",
    "    openai.api_key = os.environ['openai_key']\n",
    "    prompt = \"\"\"\n",
    "    I have a topic that contains the following documents:\n",
    "    [DOCUMENTS]\n",
    "    The topic is described by the following keywords: [KEYWORDS]\n",
    "\n",
    "    Based on the information above, extract a short but highly descriptive topic label of at most 5 words. Make sure it is in the following format:\n",
    "    topic: <topic label>\n",
    "    \"\"\"\n",
    "    openai_model = OpenAI(model=\"gpt-3.5-turbo\", exponential_backoff=True, chat=True, prompt=prompt)\n",
    "\n",
    "    # All representation models\n",
    "    representation_model = {\n",
    "        # \"KeyBERT\": keybert_model,\n",
    "        \"OpenAI\": openai_model,  # Uncomment if you will use OpenAI\n",
    "        # \"MMR\": mmr_model,\n",
    "        # \"POS\": pos_model\n",
    "    }\n",
    "    return representation_model\n",
    "\n",
    "# Based on data provided in parameters, start the procedure of extracting embeddings and topic modeling and labeling \n",
    "def create_topic_model_embeddings(temp_df):\n",
    "     \n",
    "    embedding_model,embeddings = get_embeddings(temp_df)\n",
    "    umap_model = get_umap()\n",
    "    hdbscan_model = get_hdbscan_model()\n",
    "    vectorizer_model = get_vectorizer()\n",
    "    representation_model = get_representation_model()\n",
    "\n",
    "    topic_model_timestamp = BERTopic(\n",
    "        # Pipeline models\n",
    "        embedding_model=embedding_model,\n",
    "        umap_model=umap_model,\n",
    "        hdbscan_model=hdbscan_model,\n",
    "        vectorizer_model=vectorizer_model,\n",
    "        representation_model=representation_model,\n",
    "        # Hyperparameters\n",
    "        top_n_words=10,\n",
    "        verbose=True\n",
    "    )\n",
    "    return(\n",
    "        {\n",
    "            'topic_model' : topic_model_timestamp,\n",
    "            'embeddings' : {'embedding_model':embedding_model,'embeddings':embeddings}\n",
    "        }\n",
    "    )\n",
    "\n",
    "# After topic modeling and labeling, assign the custom topic themes provided by BERTopic and OpenAI model to the extracted topics over time\n",
    "def topic_modeling_labeling(temp_df,colname,topic_model,embeddings):\n",
    "    topics, probs = topic_model.fit_transform(temp_df[colname].values, embeddings)\n",
    "\n",
    "    # Setup ChatGPT's labels\n",
    "    chatgpt_topic_labels = {topic: \" | \".join(list(zip(*values))[0]) for topic, values in topic_model.topic_aspects_[\"OpenAI\"].items()}\n",
    "    chatgpt_topic_labels[-1] = \"Outlier Topic\"\n",
    "    topic_model.set_topic_labels(chatgpt_topic_labels)\n",
    "\n",
    "    # Get timestamps for dynamic topic modelling\n",
    "    timestamps = temp_df['dt'].values \n",
    "    reviews = temp_df[colname].values\n",
    "    \n",
    "    # Extract topics over time\n",
    "    topics_over_time = topic_model.topics_over_time(reviews, timestamps, nr_bins=20)\n",
    "\n",
    "    return topics,probs,topics_over_time\n",
    "\n",
    "\n",
    "# Prepare BERTopic model for dynamic topic modeling and labeling and extract results\n",
    "def prepare_model_attributes(temp_df,appnames):\n",
    "    print(f\"Start topic modeling for {appnames} \\n Shape: {temp_df.shape}\")\n",
    "    print(\"----------------------------------------------------------------\")\n",
    "\n",
    "    result = create_topic_model_embeddings(temp_df)\n",
    "    print('Create topic model embeddings - Done')\n",
    "\n",
    "    topic_model = result['topic_model']\n",
    "    embeddings = result['embeddings']['embeddings']\n",
    "    # Reduce dimensionality of embeddings, this step is optional but much faster to perform iteratively:\n",
    "    reduced_embeddings = UMAP(n_neighbors=10, n_components=2, min_dist=0.0, metric='cosine').fit_transform(embeddings)\n",
    "    print('Create reduced embeddings - Done')\n",
    "\n",
    "    topics,probs,topics_over_time = topic_modeling_labeling(temp_df,'review',topic_model,embeddings)\n",
    "    print('Create topic labeling - Done')\n",
    "\n",
    "    temp_df['Topic'] = topics\n",
    "    temp_df['Probability'] = probs\n",
    "\n",
    "    summarised_topics = topic_model.get_topic_info()[['Topic','CustomName','Representation']]\n",
    "    print('Create summarised topics - Done')\n",
    "\n",
    "    response = \\\n",
    "    {\n",
    "        'topic_model':topic_model,\n",
    "        'topics_over_time' : topics_over_time,\n",
    "        'reduced_embeddings' : reduced_embeddings,\n",
    "        'data':temp_df,\n",
    "        'summarised_topics' : summarised_topics\n",
    "    }\n",
    "   \n",
    "    summarised_data = \\\n",
    "    {\n",
    "     'topics_over_time' : response.get('topics_over_time'),\n",
    "     'reduced_embeddings': response.get('reduced_embeddings'),\n",
    "     'data': response.get('data'),\n",
    "     'summarised_topics':response.get('summarised_topics')\n",
    "    }\n",
    "\n",
    "    print(f\"Topics: \", response.get('summarised_topics'))\n",
    "    saved_results = summarised_data\n",
    "    saved_models = response.get('topic_model')\n",
    "\n",
    "    print(f\"Finished topic modeling for {appnames}\")\n",
    "    print(\"----------------------------------------------------------------\\n\\n\")\n",
    "    return {\n",
    "        'saved_results' : saved_results,\n",
    "        'saved_models' : saved_models\n",
    "    }\n"
   ]
  },
  {
   "cell_type": "markdown",
   "metadata": {},
   "source": [
    "## Topic Modeling and Labeling for Game App Reviews\n",
    "\n",
    "**Objective**:\n",
    "Generate a random sample of 13,000 reviews over time for each game app to create a high-performance generative model with efficient local execution.\n",
    "\n",
    "**Key Steps**:\n",
    "\n",
    " 1. **Topic Modeling**:\n",
    "     - Employ advanced techniques for topic modeling to extract meaningful themes from the game app reviews.\n",
    "     - Utilize algorithms that enhance the identification of key topics within the large dataset. \n",
    " 2. **Labeling**:\n",
    "     - Implement a robust labeling system to categorize reviews into relevant topics.\n",
    "     - Ensure the accuracy of labels for training a precise generative model.\n",
    " 3. **Data Sampling**:\n",
    "    - Randomly sample 13,000 reviews per game app over different time periods to capture the evolution of sentiments and themes.\n",
    "    - Consider stratified sampling to maintain representation across various app versions and user demographics.\n",
    " 4. **Generative Model Performance**:\n",
    "    - Evaluate and choose a generative model that excels in execution time on a local environment.\n",
    "    - Optimize parameters for enhanced performance without compromising model accuracy."
   ]
  },
  {
   "cell_type": "markdown",
   "metadata": {},
   "source": [
    "### **Negative reviews per Game**"
   ]
  },
  {
   "cell_type": "code",
   "execution_count": null,
   "metadata": {},
   "outputs": [],
   "source": [
    "negative_appname_df = {game:negative_df[negative_df['app_name']==game] for game in available_games}\n",
    "negative_appname_df_sample = {appnames:negative_appname_df[appnames].sample(n=13000, random_state=42) if len(negative_appname_df[appnames]) > 13000 else negative_appname_df[appnames] for appnames in negative_appname_df.keys()}"
   ]
  },
  {
   "cell_type": "code",
   "execution_count": null,
   "metadata": {},
   "outputs": [],
   "source": [
    "negative_themes_results = {}"
   ]
  },
  {
   "cell_type": "code",
   "execution_count": null,
   "metadata": {},
   "outputs": [],
   "source": [
    "for appnames in list(negative_appname_df_sample.keys()):\n",
    "    if ((appnames not in negative_themes_results.keys())):\n",
    "        negative_themes_results[appnames] = prepare_model_attributes(negative_appname_df_sample[appnames],appnames)"
   ]
  },
  {
   "cell_type": "code",
   "execution_count": null,
   "metadata": {},
   "outputs": [],
   "source": [
    "neg_save_results = {games : negative_themes_results[games]['saved_results'] for games in negative_themes_results.keys()}\n",
    "neg_save_models = {games : negative_themes_results[games]['saved_models'] for games in negative_themes_results.keys()}"
   ]
  },
  {
   "cell_type": "markdown",
   "metadata": {},
   "source": [
    "### **Positive themes per Game**"
   ]
  },
  {
   "cell_type": "code",
   "execution_count": null,
   "metadata": {},
   "outputs": [],
   "source": [
    "positive_appname_df = {game:positive_df[positive_df['app_name']==game] for game in available_games}\n",
    "positive_appname_df_sample = {appnames:positive_appname_df[appnames].sample(n=10000, random_state=42) if len(positive_appname_df[appnames]) > 10000 else positive_appname_df[appnames] for appnames in positive_appname_df.keys()}"
   ]
  },
  {
   "cell_type": "code",
   "execution_count": null,
   "metadata": {},
   "outputs": [],
   "source": [
    "positive_themes_results = {}"
   ]
  },
  {
   "cell_type": "code",
   "execution_count": null,
   "metadata": {},
   "outputs": [],
   "source": [
    "for appnames in list(positive_appname_df_sample.keys()):\n",
    "    if appnames not in positive_themes_results.keys():\n",
    "        positive_themes_results[appnames] = prepare_model_attributes(positive_appname_df_sample[appnames],appnames)"
   ]
  },
  {
   "cell_type": "code",
   "execution_count": null,
   "metadata": {},
   "outputs": [],
   "source": [
    "pos_save_results = {games : positive_themes_results[games]['saved_results'] for games in positive_themes_results.keys()}\n",
    "pos_save_models = {games : positive_themes_results[games]['saved_models'] for games in positive_themes_results.keys()}"
   ]
  },
  {
   "cell_type": "markdown",
   "metadata": {},
   "source": [
    "## Create 2D embeddings for positive and negative reviews"
   ]
  },
  {
   "cell_type": "code",
   "execution_count": 13,
   "metadata": {},
   "outputs": [],
   "source": [
    "def create_topic_2d_embeddings(temp_model,temp_metadata):\n",
    "    freq_df = temp_model.get_topic_freq()\n",
    "    topics = sorted(freq_df.Topic.to_list())\n",
    "    all_topics = temp_metadata['summarised_topics']['Topic'].values.tolist()\n",
    "    indices = np.array([all_topics.index(topic) for topic in topics])\n",
    "    embeddings = temp_model.topic_embeddings_[indices][1:]\n",
    "    embeddings = UMAP(n_neighbors=2, n_components=2, metric='cosine', random_state=42).fit_transform(embeddings)\n",
    "    temp_metadata['topic_embeddings_2d'] = embeddings\n",
    "    temp_metadata['topic_embeddings'] = temp_model.topic_embeddings_"
   ]
  },
  {
   "cell_type": "code",
   "execution_count": null,
   "metadata": {},
   "outputs": [],
   "source": [
    "for appname in neg_save_results['saved_models'].keys():\n",
    "    create_topic_2d_embeddings(neg_save_models['saved_models'][appname],neg_save_results['saved_results'][appname])\n",
    "    create_topic_2d_embeddings(pos_save_models['saved_models'][appname],pos_save_results['saved_results'][appname])"
   ]
  },
  {
   "cell_type": "markdown",
   "metadata": {},
   "source": [
    "## **Save models**"
   ]
  },
  {
   "cell_type": "code",
   "execution_count": null,
   "metadata": {},
   "outputs": [],
   "source": [
    "import pickle \n",
    "# Open a file in binary mode for writing\n",
    "with open('../results/saved_data/negative_themes/negative_data.pkl', 'wb') as f:\n",
    "    # Pickle the dictionary to the file\n",
    "    pickle.dump(neg_save_results, f)\n",
    "\n",
    "with open('../results/saved_models/negative_themes/negative_models.pkl', 'wb') as f:\n",
    "    # Pickle the dictionary to the file\n",
    "    pickle.dump(neg_save_models, f)\n",
    "\n",
    "\n",
    "# Open a file in binary mode for writing\n",
    "with open('../results/saved_data/positive_themes/positive_data.pkl', 'wb') as f:\n",
    "    # Pickle the dictionary to the file\n",
    "    pickle.dump(pos_save_results, f)\n",
    "\n",
    "with open('../results/saved_models/positive_themes/positive_models.pkl', 'wb') as f:\n",
    "    # Pickle the dictionary to the file\n",
    "    pickle.dump(pos_save_models, f)"
   ]
  }
 ],
 "metadata": {
  "kernelspec": {
   "display_name": "players_behavior-Bwxkhg14",
   "language": "python",
   "name": "python3"
  },
  "language_info": {
   "codemirror_mode": {
    "name": "ipython",
    "version": 3
   },
   "file_extension": ".py",
   "mimetype": "text/x-python",
   "name": "python",
   "nbconvert_exporter": "python",
   "pygments_lexer": "ipython3",
   "version": "3.11.6"
  }
 },
 "nbformat": 4,
 "nbformat_minor": 2
}
